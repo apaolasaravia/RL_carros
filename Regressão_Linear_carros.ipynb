{
  "nbformat": 4,
  "nbformat_minor": 0,
  "metadata": {
    "colab": {
      "provenance": []
    },
    "kernelspec": {
      "name": "python3",
      "display_name": "Python 3"
    },
    "language_info": {
      "name": "python"
    }
  },
  "cells": [
    {
      "cell_type": "markdown",
      "source": [
        "# **Regressão Linear: Análise da influência de variáveis na determinação do valor final do carro.**"
      ],
      "metadata": {
        "id": "Wl_kwU1UYC_P"
      }
    },
    {
      "cell_type": "code",
      "execution_count": 1,
      "metadata": {
        "id": "w6543J8iNZW0"
      },
      "outputs": [],
      "source": [
        "#Importando as bibliotecas necessárias:\n",
        "\n",
        "import numpy as np\n",
        "import pandas as pd\n",
        "import matplotlib.pyplot as plt\n",
        "\n"
      ]
    },
    {
      "cell_type": "code",
      "source": [
        "caminho = '/content/ford.csv'\n",
        "df = pd.read_csv(caminho)\n",
        "df"
      ],
      "metadata": {
        "colab": {
          "base_uri": "https://localhost:8080/",
          "height": 424
        },
        "id": "0FBxHgBeQSz3",
        "outputId": "03077177-66eb-4966-b572-429a18bab26f"
      },
      "execution_count": 2,
      "outputs": [
        {
          "output_type": "execute_result",
          "data": {
            "text/plain": [
              "         model  year  price transmission  mileage fuelType  tax   mpg  \\\n",
              "0       Fiesta  2017  12000    Automatic    15944   Petrol  150  57.7   \n",
              "1        Focus  2018  14000       Manual     9083   Petrol  150  57.7   \n",
              "2        Focus  2017  13000       Manual    12456   Petrol  150  57.7   \n",
              "3       Fiesta  2019  17500       Manual    10460   Petrol  145  40.3   \n",
              "4       Fiesta  2019  16500    Automatic     1482   Petrol  145  48.7   \n",
              "...        ...   ...    ...          ...      ...      ...  ...   ...   \n",
              "17960   Fiesta  2016   7999       Manual    31348   Petrol  125  54.3   \n",
              "17961    B-MAX  2017   8999       Manual    16700   Petrol  150  47.1   \n",
              "17962    B-MAX  2014   7499       Manual    40700   Petrol   30  57.7   \n",
              "17963    Focus  2015   9999       Manual     7010   Diesel   20  67.3   \n",
              "17964       KA  2018   8299       Manual     5007   Petrol  145  57.7   \n",
              "\n",
              "       engineSize  \n",
              "0             1.0  \n",
              "1             1.0  \n",
              "2             1.0  \n",
              "3             1.5  \n",
              "4             1.0  \n",
              "...           ...  \n",
              "17960         1.2  \n",
              "17961         1.4  \n",
              "17962         1.0  \n",
              "17963         1.6  \n",
              "17964         1.2  \n",
              "\n",
              "[17965 rows x 9 columns]"
            ],
            "text/html": [
              "\n",
              "  <div id=\"df-12fea6fc-febf-4df1-822f-6ead2e41c67b\">\n",
              "    <div class=\"colab-df-container\">\n",
              "      <div>\n",
              "<style scoped>\n",
              "    .dataframe tbody tr th:only-of-type {\n",
              "        vertical-align: middle;\n",
              "    }\n",
              "\n",
              "    .dataframe tbody tr th {\n",
              "        vertical-align: top;\n",
              "    }\n",
              "\n",
              "    .dataframe thead th {\n",
              "        text-align: right;\n",
              "    }\n",
              "</style>\n",
              "<table border=\"1\" class=\"dataframe\">\n",
              "  <thead>\n",
              "    <tr style=\"text-align: right;\">\n",
              "      <th></th>\n",
              "      <th>model</th>\n",
              "      <th>year</th>\n",
              "      <th>price</th>\n",
              "      <th>transmission</th>\n",
              "      <th>mileage</th>\n",
              "      <th>fuelType</th>\n",
              "      <th>tax</th>\n",
              "      <th>mpg</th>\n",
              "      <th>engineSize</th>\n",
              "    </tr>\n",
              "  </thead>\n",
              "  <tbody>\n",
              "    <tr>\n",
              "      <th>0</th>\n",
              "      <td>Fiesta</td>\n",
              "      <td>2017</td>\n",
              "      <td>12000</td>\n",
              "      <td>Automatic</td>\n",
              "      <td>15944</td>\n",
              "      <td>Petrol</td>\n",
              "      <td>150</td>\n",
              "      <td>57.7</td>\n",
              "      <td>1.0</td>\n",
              "    </tr>\n",
              "    <tr>\n",
              "      <th>1</th>\n",
              "      <td>Focus</td>\n",
              "      <td>2018</td>\n",
              "      <td>14000</td>\n",
              "      <td>Manual</td>\n",
              "      <td>9083</td>\n",
              "      <td>Petrol</td>\n",
              "      <td>150</td>\n",
              "      <td>57.7</td>\n",
              "      <td>1.0</td>\n",
              "    </tr>\n",
              "    <tr>\n",
              "      <th>2</th>\n",
              "      <td>Focus</td>\n",
              "      <td>2017</td>\n",
              "      <td>13000</td>\n",
              "      <td>Manual</td>\n",
              "      <td>12456</td>\n",
              "      <td>Petrol</td>\n",
              "      <td>150</td>\n",
              "      <td>57.7</td>\n",
              "      <td>1.0</td>\n",
              "    </tr>\n",
              "    <tr>\n",
              "      <th>3</th>\n",
              "      <td>Fiesta</td>\n",
              "      <td>2019</td>\n",
              "      <td>17500</td>\n",
              "      <td>Manual</td>\n",
              "      <td>10460</td>\n",
              "      <td>Petrol</td>\n",
              "      <td>145</td>\n",
              "      <td>40.3</td>\n",
              "      <td>1.5</td>\n",
              "    </tr>\n",
              "    <tr>\n",
              "      <th>4</th>\n",
              "      <td>Fiesta</td>\n",
              "      <td>2019</td>\n",
              "      <td>16500</td>\n",
              "      <td>Automatic</td>\n",
              "      <td>1482</td>\n",
              "      <td>Petrol</td>\n",
              "      <td>145</td>\n",
              "      <td>48.7</td>\n",
              "      <td>1.0</td>\n",
              "    </tr>\n",
              "    <tr>\n",
              "      <th>...</th>\n",
              "      <td>...</td>\n",
              "      <td>...</td>\n",
              "      <td>...</td>\n",
              "      <td>...</td>\n",
              "      <td>...</td>\n",
              "      <td>...</td>\n",
              "      <td>...</td>\n",
              "      <td>...</td>\n",
              "      <td>...</td>\n",
              "    </tr>\n",
              "    <tr>\n",
              "      <th>17960</th>\n",
              "      <td>Fiesta</td>\n",
              "      <td>2016</td>\n",
              "      <td>7999</td>\n",
              "      <td>Manual</td>\n",
              "      <td>31348</td>\n",
              "      <td>Petrol</td>\n",
              "      <td>125</td>\n",
              "      <td>54.3</td>\n",
              "      <td>1.2</td>\n",
              "    </tr>\n",
              "    <tr>\n",
              "      <th>17961</th>\n",
              "      <td>B-MAX</td>\n",
              "      <td>2017</td>\n",
              "      <td>8999</td>\n",
              "      <td>Manual</td>\n",
              "      <td>16700</td>\n",
              "      <td>Petrol</td>\n",
              "      <td>150</td>\n",
              "      <td>47.1</td>\n",
              "      <td>1.4</td>\n",
              "    </tr>\n",
              "    <tr>\n",
              "      <th>17962</th>\n",
              "      <td>B-MAX</td>\n",
              "      <td>2014</td>\n",
              "      <td>7499</td>\n",
              "      <td>Manual</td>\n",
              "      <td>40700</td>\n",
              "      <td>Petrol</td>\n",
              "      <td>30</td>\n",
              "      <td>57.7</td>\n",
              "      <td>1.0</td>\n",
              "    </tr>\n",
              "    <tr>\n",
              "      <th>17963</th>\n",
              "      <td>Focus</td>\n",
              "      <td>2015</td>\n",
              "      <td>9999</td>\n",
              "      <td>Manual</td>\n",
              "      <td>7010</td>\n",
              "      <td>Diesel</td>\n",
              "      <td>20</td>\n",
              "      <td>67.3</td>\n",
              "      <td>1.6</td>\n",
              "    </tr>\n",
              "    <tr>\n",
              "      <th>17964</th>\n",
              "      <td>KA</td>\n",
              "      <td>2018</td>\n",
              "      <td>8299</td>\n",
              "      <td>Manual</td>\n",
              "      <td>5007</td>\n",
              "      <td>Petrol</td>\n",
              "      <td>145</td>\n",
              "      <td>57.7</td>\n",
              "      <td>1.2</td>\n",
              "    </tr>\n",
              "  </tbody>\n",
              "</table>\n",
              "<p>17965 rows × 9 columns</p>\n",
              "</div>\n",
              "      <button class=\"colab-df-convert\" onclick=\"convertToInteractive('df-12fea6fc-febf-4df1-822f-6ead2e41c67b')\"\n",
              "              title=\"Convert this dataframe to an interactive table.\"\n",
              "              style=\"display:none;\">\n",
              "        \n",
              "  <svg xmlns=\"http://www.w3.org/2000/svg\" height=\"24px\"viewBox=\"0 0 24 24\"\n",
              "       width=\"24px\">\n",
              "    <path d=\"M0 0h24v24H0V0z\" fill=\"none\"/>\n",
              "    <path d=\"M18.56 5.44l.94 2.06.94-2.06 2.06-.94-2.06-.94-.94-2.06-.94 2.06-2.06.94zm-11 1L8.5 8.5l.94-2.06 2.06-.94-2.06-.94L8.5 2.5l-.94 2.06-2.06.94zm10 10l.94 2.06.94-2.06 2.06-.94-2.06-.94-.94-2.06-.94 2.06-2.06.94z\"/><path d=\"M17.41 7.96l-1.37-1.37c-.4-.4-.92-.59-1.43-.59-.52 0-1.04.2-1.43.59L10.3 9.45l-7.72 7.72c-.78.78-.78 2.05 0 2.83L4 21.41c.39.39.9.59 1.41.59.51 0 1.02-.2 1.41-.59l7.78-7.78 2.81-2.81c.8-.78.8-2.07 0-2.86zM5.41 20L4 18.59l7.72-7.72 1.47 1.35L5.41 20z\"/>\n",
              "  </svg>\n",
              "      </button>\n",
              "      \n",
              "  <style>\n",
              "    .colab-df-container {\n",
              "      display:flex;\n",
              "      flex-wrap:wrap;\n",
              "      gap: 12px;\n",
              "    }\n",
              "\n",
              "    .colab-df-convert {\n",
              "      background-color: #E8F0FE;\n",
              "      border: none;\n",
              "      border-radius: 50%;\n",
              "      cursor: pointer;\n",
              "      display: none;\n",
              "      fill: #1967D2;\n",
              "      height: 32px;\n",
              "      padding: 0 0 0 0;\n",
              "      width: 32px;\n",
              "    }\n",
              "\n",
              "    .colab-df-convert:hover {\n",
              "      background-color: #E2EBFA;\n",
              "      box-shadow: 0px 1px 2px rgba(60, 64, 67, 0.3), 0px 1px 3px 1px rgba(60, 64, 67, 0.15);\n",
              "      fill: #174EA6;\n",
              "    }\n",
              "\n",
              "    [theme=dark] .colab-df-convert {\n",
              "      background-color: #3B4455;\n",
              "      fill: #D2E3FC;\n",
              "    }\n",
              "\n",
              "    [theme=dark] .colab-df-convert:hover {\n",
              "      background-color: #434B5C;\n",
              "      box-shadow: 0px 1px 3px 1px rgba(0, 0, 0, 0.15);\n",
              "      filter: drop-shadow(0px 1px 2px rgba(0, 0, 0, 0.3));\n",
              "      fill: #FFFFFF;\n",
              "    }\n",
              "  </style>\n",
              "\n",
              "      <script>\n",
              "        const buttonEl =\n",
              "          document.querySelector('#df-12fea6fc-febf-4df1-822f-6ead2e41c67b button.colab-df-convert');\n",
              "        buttonEl.style.display =\n",
              "          google.colab.kernel.accessAllowed ? 'block' : 'none';\n",
              "\n",
              "        async function convertToInteractive(key) {\n",
              "          const element = document.querySelector('#df-12fea6fc-febf-4df1-822f-6ead2e41c67b');\n",
              "          const dataTable =\n",
              "            await google.colab.kernel.invokeFunction('convertToInteractive',\n",
              "                                                     [key], {});\n",
              "          if (!dataTable) return;\n",
              "\n",
              "          const docLinkHtml = 'Like what you see? Visit the ' +\n",
              "            '<a target=\"_blank\" href=https://colab.research.google.com/notebooks/data_table.ipynb>data table notebook</a>'\n",
              "            + ' to learn more about interactive tables.';\n",
              "          element.innerHTML = '';\n",
              "          dataTable['output_type'] = 'display_data';\n",
              "          await google.colab.output.renderOutput(dataTable, element);\n",
              "          const docLink = document.createElement('div');\n",
              "          docLink.innerHTML = docLinkHtml;\n",
              "          element.appendChild(docLink);\n",
              "        }\n",
              "      </script>\n",
              "    </div>\n",
              "  </div>\n",
              "  "
            ]
          },
          "metadata": {},
          "execution_count": 2
        }
      ]
    },
    {
      "cell_type": "markdown",
      "source": [
        "\n",
        "\n",
        "#Objetivo:Entender como as variáveis influenciam no preço de venda"
      ],
      "metadata": {
        "id": "ZDZBTDM0SVtl"
      }
    },
    {
      "cell_type": "code",
      "source": [
        "#Analisando os modelos de carro da marca Ford:\n",
        "\n",
        "df.model.value_counts(dropna=False)"
      ],
      "metadata": {
        "colab": {
          "base_uri": "https://localhost:8080/"
        },
        "id": "7FmvmzASScVX",
        "outputId": "e7a59fba-18e0-49e9-f40d-b7c6adb1f4d5"
      },
      "execution_count": 3,
      "outputs": [
        {
          "output_type": "execute_result",
          "data": {
            "text/plain": [
              " Fiesta                   6557\n",
              " Focus                    4588\n",
              " Kuga                     2225\n",
              " EcoSport                 1143\n",
              " C-MAX                     543\n",
              " Ka+                       531\n",
              " Mondeo                    526\n",
              " B-MAX                     355\n",
              " S-MAX                     296\n",
              " Grand C-MAX               247\n",
              " Galaxy                    228\n",
              " Edge                      208\n",
              " KA                        199\n",
              " Puma                       80\n",
              " Tourneo Custom             69\n",
              " Grand Tourneo Connect      59\n",
              " Mustang                    57\n",
              " Tourneo Connect            33\n",
              " Fusion                     16\n",
              " Streetka                    2\n",
              " Ranger                      1\n",
              " Escort                      1\n",
              " Transit Tourneo             1\n",
              "Name: model, dtype: int64"
            ]
          },
          "metadata": {},
          "execution_count": 3
        }
      ]
    },
    {
      "cell_type": "code",
      "source": [
        "#Avaliando o tipo do câmbio de cada carro:\n",
        "\n",
        "df.transmission.value_counts(dropna=False)"
      ],
      "metadata": {
        "colab": {
          "base_uri": "https://localhost:8080/"
        },
        "id": "x-63LOF3T4Pe",
        "outputId": "5561da13-d866-449f-e357-e1de6d8e6472"
      },
      "execution_count": 4,
      "outputs": [
        {
          "output_type": "execute_result",
          "data": {
            "text/plain": [
              "Manual       15517\n",
              "Automatic     1361\n",
              "Semi-Auto     1087\n",
              "Name: transmission, dtype: int64"
            ]
          },
          "metadata": {},
          "execution_count": 4
        }
      ]
    },
    {
      "cell_type": "code",
      "source": [
        "#Avaliando o tipo de combustível utilizado em cada carro:\n",
        "\n",
        "df.fuelType.value_counts(dropna=False)\n"
      ],
      "metadata": {
        "colab": {
          "base_uri": "https://localhost:8080/"
        },
        "id": "9VtfU1-dUh72",
        "outputId": "8395d622-33d6-456d-8cee-98ecfc60bfe6"
      },
      "execution_count": 5,
      "outputs": [
        {
          "output_type": "execute_result",
          "data": {
            "text/plain": [
              "Petrol      12178\n",
              "Diesel       5762\n",
              "Hybrid         22\n",
              "Electric        2\n",
              "Other           1\n",
              "Name: fuelType, dtype: int64"
            ]
          },
          "metadata": {},
          "execution_count": 5
        }
      ]
    },
    {
      "cell_type": "code",
      "source": [
        "# O método one hot visa identificar qual o padrão do modelo. As colunas que não forem identificadas no df abaixo, significa que o modelo escolheu como padrão.\n",
        "\n",
        "df_onehot=pd.get_dummies(df, drop_first = True)\n",
        "df_onehot"
      ],
      "metadata": {
        "colab": {
          "base_uri": "https://localhost:8080/",
          "height": 522
        },
        "id": "owUib4d9V1RQ",
        "outputId": "219ba5f5-3e8d-4fe8-ae94-ba81751d2a32"
      },
      "execution_count": 6,
      "outputs": [
        {
          "output_type": "execute_result",
          "data": {
            "text/plain": [
              "       year  price  mileage  tax   mpg  engineSize  model_ C-MAX  \\\n",
              "0      2017  12000    15944  150  57.7         1.0             0   \n",
              "1      2018  14000     9083  150  57.7         1.0             0   \n",
              "2      2017  13000    12456  150  57.7         1.0             0   \n",
              "3      2019  17500    10460  145  40.3         1.5             0   \n",
              "4      2019  16500     1482  145  48.7         1.0             0   \n",
              "...     ...    ...      ...  ...   ...         ...           ...   \n",
              "17960  2016   7999    31348  125  54.3         1.2             0   \n",
              "17961  2017   8999    16700  150  47.1         1.4             0   \n",
              "17962  2014   7499    40700   30  57.7         1.0             0   \n",
              "17963  2015   9999     7010   20  67.3         1.6             0   \n",
              "17964  2018   8299     5007  145  57.7         1.2             0   \n",
              "\n",
              "       model_ EcoSport  model_ Edge  model_ Escort  ...  model_ Streetka  \\\n",
              "0                    0            0              0  ...                0   \n",
              "1                    0            0              0  ...                0   \n",
              "2                    0            0              0  ...                0   \n",
              "3                    0            0              0  ...                0   \n",
              "4                    0            0              0  ...                0   \n",
              "...                ...          ...            ...  ...              ...   \n",
              "17960                0            0              0  ...                0   \n",
              "17961                0            0              0  ...                0   \n",
              "17962                0            0              0  ...                0   \n",
              "17963                0            0              0  ...                0   \n",
              "17964                0            0              0  ...                0   \n",
              "\n",
              "       model_ Tourneo Connect  model_ Tourneo Custom  model_ Transit Tourneo  \\\n",
              "0                           0                      0                       0   \n",
              "1                           0                      0                       0   \n",
              "2                           0                      0                       0   \n",
              "3                           0                      0                       0   \n",
              "4                           0                      0                       0   \n",
              "...                       ...                    ...                     ...   \n",
              "17960                       0                      0                       0   \n",
              "17961                       0                      0                       0   \n",
              "17962                       0                      0                       0   \n",
              "17963                       0                      0                       0   \n",
              "17964                       0                      0                       0   \n",
              "\n",
              "       transmission_Manual  transmission_Semi-Auto  fuelType_Electric  \\\n",
              "0                        0                       0                  0   \n",
              "1                        1                       0                  0   \n",
              "2                        1                       0                  0   \n",
              "3                        1                       0                  0   \n",
              "4                        0                       0                  0   \n",
              "...                    ...                     ...                ...   \n",
              "17960                    1                       0                  0   \n",
              "17961                    1                       0                  0   \n",
              "17962                    1                       0                  0   \n",
              "17963                    1                       0                  0   \n",
              "17964                    1                       0                  0   \n",
              "\n",
              "       fuelType_Hybrid  fuelType_Other  fuelType_Petrol  \n",
              "0                    0               0                1  \n",
              "1                    0               0                1  \n",
              "2                    0               0                1  \n",
              "3                    0               0                1  \n",
              "4                    0               0                1  \n",
              "...                ...             ...              ...  \n",
              "17960                0               0                1  \n",
              "17961                0               0                1  \n",
              "17962                0               0                1  \n",
              "17963                0               0                0  \n",
              "17964                0               0                1  \n",
              "\n",
              "[17965 rows x 34 columns]"
            ],
            "text/html": [
              "\n",
              "  <div id=\"df-acc7c6c9-1fee-44b0-a094-935f7fcc760e\">\n",
              "    <div class=\"colab-df-container\">\n",
              "      <div>\n",
              "<style scoped>\n",
              "    .dataframe tbody tr th:only-of-type {\n",
              "        vertical-align: middle;\n",
              "    }\n",
              "\n",
              "    .dataframe tbody tr th {\n",
              "        vertical-align: top;\n",
              "    }\n",
              "\n",
              "    .dataframe thead th {\n",
              "        text-align: right;\n",
              "    }\n",
              "</style>\n",
              "<table border=\"1\" class=\"dataframe\">\n",
              "  <thead>\n",
              "    <tr style=\"text-align: right;\">\n",
              "      <th></th>\n",
              "      <th>year</th>\n",
              "      <th>price</th>\n",
              "      <th>mileage</th>\n",
              "      <th>tax</th>\n",
              "      <th>mpg</th>\n",
              "      <th>engineSize</th>\n",
              "      <th>model_ C-MAX</th>\n",
              "      <th>model_ EcoSport</th>\n",
              "      <th>model_ Edge</th>\n",
              "      <th>model_ Escort</th>\n",
              "      <th>...</th>\n",
              "      <th>model_ Streetka</th>\n",
              "      <th>model_ Tourneo Connect</th>\n",
              "      <th>model_ Tourneo Custom</th>\n",
              "      <th>model_ Transit Tourneo</th>\n",
              "      <th>transmission_Manual</th>\n",
              "      <th>transmission_Semi-Auto</th>\n",
              "      <th>fuelType_Electric</th>\n",
              "      <th>fuelType_Hybrid</th>\n",
              "      <th>fuelType_Other</th>\n",
              "      <th>fuelType_Petrol</th>\n",
              "    </tr>\n",
              "  </thead>\n",
              "  <tbody>\n",
              "    <tr>\n",
              "      <th>0</th>\n",
              "      <td>2017</td>\n",
              "      <td>12000</td>\n",
              "      <td>15944</td>\n",
              "      <td>150</td>\n",
              "      <td>57.7</td>\n",
              "      <td>1.0</td>\n",
              "      <td>0</td>\n",
              "      <td>0</td>\n",
              "      <td>0</td>\n",
              "      <td>0</td>\n",
              "      <td>...</td>\n",
              "      <td>0</td>\n",
              "      <td>0</td>\n",
              "      <td>0</td>\n",
              "      <td>0</td>\n",
              "      <td>0</td>\n",
              "      <td>0</td>\n",
              "      <td>0</td>\n",
              "      <td>0</td>\n",
              "      <td>0</td>\n",
              "      <td>1</td>\n",
              "    </tr>\n",
              "    <tr>\n",
              "      <th>1</th>\n",
              "      <td>2018</td>\n",
              "      <td>14000</td>\n",
              "      <td>9083</td>\n",
              "      <td>150</td>\n",
              "      <td>57.7</td>\n",
              "      <td>1.0</td>\n",
              "      <td>0</td>\n",
              "      <td>0</td>\n",
              "      <td>0</td>\n",
              "      <td>0</td>\n",
              "      <td>...</td>\n",
              "      <td>0</td>\n",
              "      <td>0</td>\n",
              "      <td>0</td>\n",
              "      <td>0</td>\n",
              "      <td>1</td>\n",
              "      <td>0</td>\n",
              "      <td>0</td>\n",
              "      <td>0</td>\n",
              "      <td>0</td>\n",
              "      <td>1</td>\n",
              "    </tr>\n",
              "    <tr>\n",
              "      <th>2</th>\n",
              "      <td>2017</td>\n",
              "      <td>13000</td>\n",
              "      <td>12456</td>\n",
              "      <td>150</td>\n",
              "      <td>57.7</td>\n",
              "      <td>1.0</td>\n",
              "      <td>0</td>\n",
              "      <td>0</td>\n",
              "      <td>0</td>\n",
              "      <td>0</td>\n",
              "      <td>...</td>\n",
              "      <td>0</td>\n",
              "      <td>0</td>\n",
              "      <td>0</td>\n",
              "      <td>0</td>\n",
              "      <td>1</td>\n",
              "      <td>0</td>\n",
              "      <td>0</td>\n",
              "      <td>0</td>\n",
              "      <td>0</td>\n",
              "      <td>1</td>\n",
              "    </tr>\n",
              "    <tr>\n",
              "      <th>3</th>\n",
              "      <td>2019</td>\n",
              "      <td>17500</td>\n",
              "      <td>10460</td>\n",
              "      <td>145</td>\n",
              "      <td>40.3</td>\n",
              "      <td>1.5</td>\n",
              "      <td>0</td>\n",
              "      <td>0</td>\n",
              "      <td>0</td>\n",
              "      <td>0</td>\n",
              "      <td>...</td>\n",
              "      <td>0</td>\n",
              "      <td>0</td>\n",
              "      <td>0</td>\n",
              "      <td>0</td>\n",
              "      <td>1</td>\n",
              "      <td>0</td>\n",
              "      <td>0</td>\n",
              "      <td>0</td>\n",
              "      <td>0</td>\n",
              "      <td>1</td>\n",
              "    </tr>\n",
              "    <tr>\n",
              "      <th>4</th>\n",
              "      <td>2019</td>\n",
              "      <td>16500</td>\n",
              "      <td>1482</td>\n",
              "      <td>145</td>\n",
              "      <td>48.7</td>\n",
              "      <td>1.0</td>\n",
              "      <td>0</td>\n",
              "      <td>0</td>\n",
              "      <td>0</td>\n",
              "      <td>0</td>\n",
              "      <td>...</td>\n",
              "      <td>0</td>\n",
              "      <td>0</td>\n",
              "      <td>0</td>\n",
              "      <td>0</td>\n",
              "      <td>0</td>\n",
              "      <td>0</td>\n",
              "      <td>0</td>\n",
              "      <td>0</td>\n",
              "      <td>0</td>\n",
              "      <td>1</td>\n",
              "    </tr>\n",
              "    <tr>\n",
              "      <th>...</th>\n",
              "      <td>...</td>\n",
              "      <td>...</td>\n",
              "      <td>...</td>\n",
              "      <td>...</td>\n",
              "      <td>...</td>\n",
              "      <td>...</td>\n",
              "      <td>...</td>\n",
              "      <td>...</td>\n",
              "      <td>...</td>\n",
              "      <td>...</td>\n",
              "      <td>...</td>\n",
              "      <td>...</td>\n",
              "      <td>...</td>\n",
              "      <td>...</td>\n",
              "      <td>...</td>\n",
              "      <td>...</td>\n",
              "      <td>...</td>\n",
              "      <td>...</td>\n",
              "      <td>...</td>\n",
              "      <td>...</td>\n",
              "      <td>...</td>\n",
              "    </tr>\n",
              "    <tr>\n",
              "      <th>17960</th>\n",
              "      <td>2016</td>\n",
              "      <td>7999</td>\n",
              "      <td>31348</td>\n",
              "      <td>125</td>\n",
              "      <td>54.3</td>\n",
              "      <td>1.2</td>\n",
              "      <td>0</td>\n",
              "      <td>0</td>\n",
              "      <td>0</td>\n",
              "      <td>0</td>\n",
              "      <td>...</td>\n",
              "      <td>0</td>\n",
              "      <td>0</td>\n",
              "      <td>0</td>\n",
              "      <td>0</td>\n",
              "      <td>1</td>\n",
              "      <td>0</td>\n",
              "      <td>0</td>\n",
              "      <td>0</td>\n",
              "      <td>0</td>\n",
              "      <td>1</td>\n",
              "    </tr>\n",
              "    <tr>\n",
              "      <th>17961</th>\n",
              "      <td>2017</td>\n",
              "      <td>8999</td>\n",
              "      <td>16700</td>\n",
              "      <td>150</td>\n",
              "      <td>47.1</td>\n",
              "      <td>1.4</td>\n",
              "      <td>0</td>\n",
              "      <td>0</td>\n",
              "      <td>0</td>\n",
              "      <td>0</td>\n",
              "      <td>...</td>\n",
              "      <td>0</td>\n",
              "      <td>0</td>\n",
              "      <td>0</td>\n",
              "      <td>0</td>\n",
              "      <td>1</td>\n",
              "      <td>0</td>\n",
              "      <td>0</td>\n",
              "      <td>0</td>\n",
              "      <td>0</td>\n",
              "      <td>1</td>\n",
              "    </tr>\n",
              "    <tr>\n",
              "      <th>17962</th>\n",
              "      <td>2014</td>\n",
              "      <td>7499</td>\n",
              "      <td>40700</td>\n",
              "      <td>30</td>\n",
              "      <td>57.7</td>\n",
              "      <td>1.0</td>\n",
              "      <td>0</td>\n",
              "      <td>0</td>\n",
              "      <td>0</td>\n",
              "      <td>0</td>\n",
              "      <td>...</td>\n",
              "      <td>0</td>\n",
              "      <td>0</td>\n",
              "      <td>0</td>\n",
              "      <td>0</td>\n",
              "      <td>1</td>\n",
              "      <td>0</td>\n",
              "      <td>0</td>\n",
              "      <td>0</td>\n",
              "      <td>0</td>\n",
              "      <td>1</td>\n",
              "    </tr>\n",
              "    <tr>\n",
              "      <th>17963</th>\n",
              "      <td>2015</td>\n",
              "      <td>9999</td>\n",
              "      <td>7010</td>\n",
              "      <td>20</td>\n",
              "      <td>67.3</td>\n",
              "      <td>1.6</td>\n",
              "      <td>0</td>\n",
              "      <td>0</td>\n",
              "      <td>0</td>\n",
              "      <td>0</td>\n",
              "      <td>...</td>\n",
              "      <td>0</td>\n",
              "      <td>0</td>\n",
              "      <td>0</td>\n",
              "      <td>0</td>\n",
              "      <td>1</td>\n",
              "      <td>0</td>\n",
              "      <td>0</td>\n",
              "      <td>0</td>\n",
              "      <td>0</td>\n",
              "      <td>0</td>\n",
              "    </tr>\n",
              "    <tr>\n",
              "      <th>17964</th>\n",
              "      <td>2018</td>\n",
              "      <td>8299</td>\n",
              "      <td>5007</td>\n",
              "      <td>145</td>\n",
              "      <td>57.7</td>\n",
              "      <td>1.2</td>\n",
              "      <td>0</td>\n",
              "      <td>0</td>\n",
              "      <td>0</td>\n",
              "      <td>0</td>\n",
              "      <td>...</td>\n",
              "      <td>0</td>\n",
              "      <td>0</td>\n",
              "      <td>0</td>\n",
              "      <td>0</td>\n",
              "      <td>1</td>\n",
              "      <td>0</td>\n",
              "      <td>0</td>\n",
              "      <td>0</td>\n",
              "      <td>0</td>\n",
              "      <td>1</td>\n",
              "    </tr>\n",
              "  </tbody>\n",
              "</table>\n",
              "<p>17965 rows × 34 columns</p>\n",
              "</div>\n",
              "      <button class=\"colab-df-convert\" onclick=\"convertToInteractive('df-acc7c6c9-1fee-44b0-a094-935f7fcc760e')\"\n",
              "              title=\"Convert this dataframe to an interactive table.\"\n",
              "              style=\"display:none;\">\n",
              "        \n",
              "  <svg xmlns=\"http://www.w3.org/2000/svg\" height=\"24px\"viewBox=\"0 0 24 24\"\n",
              "       width=\"24px\">\n",
              "    <path d=\"M0 0h24v24H0V0z\" fill=\"none\"/>\n",
              "    <path d=\"M18.56 5.44l.94 2.06.94-2.06 2.06-.94-2.06-.94-.94-2.06-.94 2.06-2.06.94zm-11 1L8.5 8.5l.94-2.06 2.06-.94-2.06-.94L8.5 2.5l-.94 2.06-2.06.94zm10 10l.94 2.06.94-2.06 2.06-.94-2.06-.94-.94-2.06-.94 2.06-2.06.94z\"/><path d=\"M17.41 7.96l-1.37-1.37c-.4-.4-.92-.59-1.43-.59-.52 0-1.04.2-1.43.59L10.3 9.45l-7.72 7.72c-.78.78-.78 2.05 0 2.83L4 21.41c.39.39.9.59 1.41.59.51 0 1.02-.2 1.41-.59l7.78-7.78 2.81-2.81c.8-.78.8-2.07 0-2.86zM5.41 20L4 18.59l7.72-7.72 1.47 1.35L5.41 20z\"/>\n",
              "  </svg>\n",
              "      </button>\n",
              "      \n",
              "  <style>\n",
              "    .colab-df-container {\n",
              "      display:flex;\n",
              "      flex-wrap:wrap;\n",
              "      gap: 12px;\n",
              "    }\n",
              "\n",
              "    .colab-df-convert {\n",
              "      background-color: #E8F0FE;\n",
              "      border: none;\n",
              "      border-radius: 50%;\n",
              "      cursor: pointer;\n",
              "      display: none;\n",
              "      fill: #1967D2;\n",
              "      height: 32px;\n",
              "      padding: 0 0 0 0;\n",
              "      width: 32px;\n",
              "    }\n",
              "\n",
              "    .colab-df-convert:hover {\n",
              "      background-color: #E2EBFA;\n",
              "      box-shadow: 0px 1px 2px rgba(60, 64, 67, 0.3), 0px 1px 3px 1px rgba(60, 64, 67, 0.15);\n",
              "      fill: #174EA6;\n",
              "    }\n",
              "\n",
              "    [theme=dark] .colab-df-convert {\n",
              "      background-color: #3B4455;\n",
              "      fill: #D2E3FC;\n",
              "    }\n",
              "\n",
              "    [theme=dark] .colab-df-convert:hover {\n",
              "      background-color: #434B5C;\n",
              "      box-shadow: 0px 1px 3px 1px rgba(0, 0, 0, 0.15);\n",
              "      filter: drop-shadow(0px 1px 2px rgba(0, 0, 0, 0.3));\n",
              "      fill: #FFFFFF;\n",
              "    }\n",
              "  </style>\n",
              "\n",
              "      <script>\n",
              "        const buttonEl =\n",
              "          document.querySelector('#df-acc7c6c9-1fee-44b0-a094-935f7fcc760e button.colab-df-convert');\n",
              "        buttonEl.style.display =\n",
              "          google.colab.kernel.accessAllowed ? 'block' : 'none';\n",
              "\n",
              "        async function convertToInteractive(key) {\n",
              "          const element = document.querySelector('#df-acc7c6c9-1fee-44b0-a094-935f7fcc760e');\n",
              "          const dataTable =\n",
              "            await google.colab.kernel.invokeFunction('convertToInteractive',\n",
              "                                                     [key], {});\n",
              "          if (!dataTable) return;\n",
              "\n",
              "          const docLinkHtml = 'Like what you see? Visit the ' +\n",
              "            '<a target=\"_blank\" href=https://colab.research.google.com/notebooks/data_table.ipynb>data table notebook</a>'\n",
              "            + ' to learn more about interactive tables.';\n",
              "          element.innerHTML = '';\n",
              "          dataTable['output_type'] = 'display_data';\n",
              "          await google.colab.output.renderOutput(dataTable, element);\n",
              "          const docLink = document.createElement('div');\n",
              "          docLink.innerHTML = docLinkHtml;\n",
              "          element.appendChild(docLink);\n",
              "        }\n",
              "      </script>\n",
              "    </div>\n",
              "  </div>\n",
              "  "
            ]
          },
          "metadata": {},
          "execution_count": 6
        }
      ]
    },
    {
      "cell_type": "code",
      "source": [
        "for col in df_onehot.columns:\n",
        "    print(col)"
      ],
      "metadata": {
        "colab": {
          "base_uri": "https://localhost:8080/"
        },
        "id": "_s0UD1VLSvV0",
        "outputId": "0fd394f0-20ba-42ff-f613-7778d2e1f4c5"
      },
      "execution_count": 36,
      "outputs": [
        {
          "output_type": "stream",
          "name": "stdout",
          "text": [
            "year\n",
            "price\n",
            "mileage\n",
            "tax\n",
            "mpg\n",
            "engineSize\n",
            "model_ C-MAX\n",
            "model_ EcoSport\n",
            "model_ Edge\n",
            "model_ Escort\n",
            "model_ Fiesta\n",
            "model_ Focus\n",
            "model_ Fusion\n",
            "model_ Galaxy\n",
            "model_ Grand C-MAX\n",
            "model_ Grand Tourneo Connect\n",
            "model_ KA\n",
            "model_ Ka+\n",
            "model_ Kuga\n",
            "model_ Mondeo\n",
            "model_ Mustang\n",
            "model_ Puma\n",
            "model_ Ranger\n",
            "model_ S-MAX\n",
            "model_ Streetka\n",
            "model_ Tourneo Connect\n",
            "model_ Tourneo Custom\n",
            "model_ Transit Tourneo\n",
            "transmission_Manual\n",
            "transmission_Semi-Auto\n",
            "fuelType_Electric\n",
            "fuelType_Hybrid\n",
            "fuelType_Other\n",
            "fuelType_Petrol\n"
          ]
        }
      ]
    },
    {
      "cell_type": "markdown",
      "source": [
        "Analisando as colunas do df_onehot, nota-se que o carro padrão é o modelo B-MAX (pois não se encontra na lista acima)."
      ],
      "metadata": {
        "id": "h_qlOAjpUQad"
      }
    },
    {
      "cell_type": "code",
      "source": [
        "#variável preditiva e variável resposta:\n",
        "\n",
        "X= df_onehot.drop('price', axis = 1)\n",
        "y = df_onehot.price"
      ],
      "metadata": {
        "id": "Ao1f6Erxi870"
      },
      "execution_count": 7,
      "outputs": []
    },
    {
      "cell_type": "markdown",
      "source": [
        "Analisando graficamente a variável resposta:"
      ],
      "metadata": {
        "id": "87vcLf7YlMJq"
      }
    },
    {
      "cell_type": "code",
      "source": [
        "plt.figure(figsize=(15,5))\n",
        "plt.hist(y, bins = 30, rwidth=0.8)"
      ],
      "metadata": {
        "colab": {
          "base_uri": "https://localhost:8080/",
          "height": 563
        },
        "id": "miKVs4tglQSu",
        "outputId": "eb24c26d-a758-4a55-b307-f61a1572eee2"
      },
      "execution_count": 8,
      "outputs": [
        {
          "output_type": "execute_result",
          "data": {
            "text/plain": [
              "(array([7.600e+01, 2.250e+02, 4.580e+02, 1.741e+03, 2.979e+03, 3.621e+03,\n",
              "        2.386e+03, 1.874e+03, 1.553e+03, 1.447e+03, 8.200e+02, 3.190e+02,\n",
              "        1.580e+02, 9.700e+01, 6.700e+01, 4.500e+01, 2.500e+01, 3.000e+01,\n",
              "        1.300e+01, 6.000e+00, 8.000e+00, 4.000e+00, 5.000e+00, 3.000e+00,\n",
              "        1.000e+00, 0.000e+00, 2.000e+00, 1.000e+00, 0.000e+00, 1.000e+00]),\n",
              " array([  495.        ,  2311.66666667,  4128.33333333,  5945.        ,\n",
              "         7761.66666667,  9578.33333333, 11395.        , 13211.66666667,\n",
              "        15028.33333333, 16845.        , 18661.66666667, 20478.33333333,\n",
              "        22295.        , 24111.66666667, 25928.33333333, 27745.        ,\n",
              "        29561.66666667, 31378.33333333, 33195.        , 35011.66666667,\n",
              "        36828.33333333, 38645.        , 40461.66666667, 42278.33333333,\n",
              "        44095.        , 45911.66666667, 47728.33333333, 49545.        ,\n",
              "        51361.66666667, 53178.33333333, 54995.        ]),\n",
              " <a list of 30 Patch objects>)"
            ]
          },
          "metadata": {},
          "execution_count": 8
        },
        {
          "output_type": "display_data",
          "data": {
            "text/plain": [
              "<Figure size 1080x360 with 1 Axes>"
            ],
            "image/png": "[encoded data removed]"
          },
          "metadata": {
            "needs_background": "light"
          }
        }
      ]
    },
    {
      "cell_type": "markdown",
      "source": [
        "Analisando os outliers de uma forma melhor:\n"
      ],
      "metadata": {
        "id": "NvBPmXLEi46v"
      }
    },
    {
      "cell_type": "code",
      "source": [
        "plt.figure(figsize=(15,5))\n",
        "plt.hist(y, bins = 30, rwidth = .8, log=True)\n",
        "plt.grid()"
      ],
      "metadata": {
        "colab": {
          "base_uri": "https://localhost:8080/",
          "height": 320
        },
        "id": "RPROz5xImKat",
        "outputId": "7657e2d8-48e7-4736-f9a4-f705793d8d72"
      },
      "execution_count": 9,
      "outputs": [
        {
          "output_type": "display_data",
          "data": {
            "text/plain": [
              "<Figure size 1080x360 with 1 Axes>"
            ],
            "image/png": "[encoded data removed]"
          },
          "metadata": {
            "needs_background": "light"
          }
        }
      ]
    },
    {
      "cell_type": "markdown",
      "source": [
        "Treinando o modelo"
      ],
      "metadata": {
        "id": "A-wdGfe0w-qg"
      }
    },
    {
      "cell_type": "code",
      "source": [
        "from sklearn.model_selection import train_test_split \n",
        "\n",
        "X_tr, X_ts, y_tr, y_ts = train_test_split(X, y, test_size=.3, random_state = 61658)"
      ],
      "metadata": {
        "id": "lUrdrJf9xA8g"
      },
      "execution_count": 10,
      "outputs": []
    },
    {
      "cell_type": "code",
      "source": [
        "X_tr.shape, X_ts.shape"
      ],
      "metadata": {
        "id": "CV4st3k1xtui",
        "outputId": "8de39316-a261-48d9-cb7d-0197efa72a98",
        "colab": {
          "base_uri": "https://localhost:8080/"
        }
      },
      "execution_count": null,
      "outputs": [
        {
          "output_type": "execute_result",
          "data": {
            "text/plain": [
              "((12575, 33), (5390, 33))"
            ]
          },
          "metadata": {},
          "execution_count": 12
        }
      ]
    },
    {
      "cell_type": "markdown",
      "source": [
        "# Normalizando as variáveis para poder compará-las."
      ],
      "metadata": {
        "id": "dVuDX2lP2IxD"
      }
    },
    {
      "cell_type": "code",
      "source": [
        "X_tr_s = X_tr.copy()\n",
        "X_ts_s = X_ts.copy()\n",
        "\n",
        "from sklearn .preprocessing import StandardScaler\n",
        "\n",
        "cols_to_scale = [\n",
        "    'year',\n",
        "    'mileage',\n",
        "    'engineSize',\n",
        "]\n",
        "scalers = {}\n",
        "\n",
        "for col in cols_to_scale:\n",
        "    scalers[col] = StandardScaler()\n",
        "    scalers[col].fit(X_tr_s[[col]])\n",
        "\n",
        "    X_tr_s.loc[:,col] = scalers[col].transform(X_tr_s[[col]])\n",
        "    X_ts_s.loc[:,col] = scalers[col].transform(X_ts_s[[col]])"
      ],
      "metadata": {
        "id": "viB4eFXsxttX"
      },
      "execution_count": 11,
      "outputs": []
    },
    {
      "cell_type": "code",
      "source": [
        "X_tr_s"
      ],
      "metadata": {
        "colab": {
          "base_uri": "https://localhost:8080/",
          "height": 522
        },
        "id": "dOhbDsKi5H56",
        "outputId": "7ba44e1d-206a-4de5-fe42-a4c72357a1a9"
      },
      "execution_count": 12,
      "outputs": [
        {
          "output_type": "execute_result",
          "data": {
            "text/plain": [
              "           year   mileage  tax   mpg  engineSize  model_ C-MAX  \\\n",
              "9846   1.054137 -1.109143  145  38.2    1.515942             0   \n",
              "4834  -0.421131  0.072954    0  65.7   -0.825227             0   \n",
              "4613   0.562381 -0.419509  145  58.9   -0.825227             0   \n",
              "14543  0.562381  0.263101  145  74.3    0.345357             0   \n",
              "470    1.054137 -0.704447  145  54.3    0.345357             0   \n",
              "...         ...       ...  ...   ...         ...           ...   \n",
              "5252   0.070625 -0.735976   20  61.4   -0.825227             0   \n",
              "4392  -0.421131  2.266586  125  60.1    1.515942             0   \n",
              "12778  1.054137 -1.034961  145  55.4   -0.825227             0   \n",
              "7775   0.070625 -0.872088  165  44.1    0.579474             0   \n",
              "12796 -1.404643 -0.017172    0  65.7   -0.825227             0   \n",
              "\n",
              "       model_ EcoSport  model_ Edge  model_ Escort  model_ Fiesta  ...  \\\n",
              "9846                 0            0              0              0  ...   \n",
              "4834                 0            0              0              1  ...   \n",
              "4613                 0            0              0              1  ...   \n",
              "14543                0            0              0              0  ...   \n",
              "470                  0            0              0              0  ...   \n",
              "...                ...          ...            ...            ...  ...   \n",
              "5252                 0            0              0              0  ...   \n",
              "4392                 0            0              0              0  ...   \n",
              "12778                0            0              0              1  ...   \n",
              "7775                 0            0              0              0  ...   \n",
              "12796                0            0              0              1  ...   \n",
              "\n",
              "       model_ Streetka  model_ Tourneo Connect  model_ Tourneo Custom  \\\n",
              "9846                 0                       0                      0   \n",
              "4834                 0                       0                      0   \n",
              "4613                 0                       0                      0   \n",
              "14543                0                       0                      0   \n",
              "470                  0                       0                      0   \n",
              "...                ...                     ...                    ...   \n",
              "5252                 0                       0                      0   \n",
              "4392                 0                       0                      0   \n",
              "12778                0                       0                      0   \n",
              "7775                 0                       0                      0   \n",
              "12796                0                       0                      0   \n",
              "\n",
              "       model_ Transit Tourneo  transmission_Manual  transmission_Semi-Auto  \\\n",
              "9846                        0                    1                       0   \n",
              "4834                        0                    1                       0   \n",
              "4613                        0                    1                       0   \n",
              "14543                       0                    1                       0   \n",
              "470                         0                    1                       0   \n",
              "...                       ...                  ...                     ...   \n",
              "5252                        0                    1                       0   \n",
              "4392                        0                    1                       0   \n",
              "12778                       0                    1                       0   \n",
              "7775                        0                    0                       1   \n",
              "12796                       0                    1                       0   \n",
              "\n",
              "       fuelType_Electric  fuelType_Hybrid  fuelType_Other  fuelType_Petrol  \n",
              "9846                   0                0               0                0  \n",
              "4834                   0                0               0                1  \n",
              "4613                   0                0               0                1  \n",
              "14543                  0                0               0                0  \n",
              "470                    0                0               0                0  \n",
              "...                  ...              ...             ...              ...  \n",
              "5252                   0                0               0                1  \n",
              "4392                   0                0               0                0  \n",
              "12778                  0                0               0                1  \n",
              "7775                   0                0               0                1  \n",
              "12796                  0                0               0                1  \n",
              "\n",
              "[12575 rows x 33 columns]"
            ],
            "text/html": [
              "\n",
              "  <div id=\"df-5b26ad9f-080a-4574-b2aa-6777ad51c450\">\n",
              "    <div class=\"colab-df-container\">\n",
              "      <div>\n",
              "<style scoped>\n",
              "    .dataframe tbody tr th:only-of-type {\n",
              "        vertical-align: middle;\n",
              "    }\n",
              "\n",
              "    .dataframe tbody tr th {\n",
              "        vertical-align: top;\n",
              "    }\n",
              "\n",
              "    .dataframe thead th {\n",
              "        text-align: right;\n",
              "    }\n",
              "</style>\n",
              "<table border=\"1\" class=\"dataframe\">\n",
              "  <thead>\n",
              "    <tr style=\"text-align: right;\">\n",
              "      <th></th>\n",
              "      <th>year</th>\n",
              "      <th>mileage</th>\n",
              "      <th>tax</th>\n",
              "      <th>mpg</th>\n",
              "      <th>engineSize</th>\n",
              "      <th>model_ C-MAX</th>\n",
              "      <th>model_ EcoSport</th>\n",
              "      <th>model_ Edge</th>\n",
              "      <th>model_ Escort</th>\n",
              "      <th>model_ Fiesta</th>\n",
              "      <th>...</th>\n",
              "      <th>model_ Streetka</th>\n",
              "      <th>model_ Tourneo Connect</th>\n",
              "      <th>model_ Tourneo Custom</th>\n",
              "      <th>model_ Transit Tourneo</th>\n",
              "      <th>transmission_Manual</th>\n",
              "      <th>transmission_Semi-Auto</th>\n",
              "      <th>fuelType_Electric</th>\n",
              "      <th>fuelType_Hybrid</th>\n",
              "      <th>fuelType_Other</th>\n",
              "      <th>fuelType_Petrol</th>\n",
              "    </tr>\n",
              "  </thead>\n",
              "  <tbody>\n",
              "    <tr>\n",
              "      <th>9846</th>\n",
              "      <td>1.054137</td>\n",
              "      <td>-1.109143</td>\n",
              "      <td>145</td>\n",
              "      <td>38.2</td>\n",
              "      <td>1.515942</td>\n",
              "      <td>0</td>\n",
              "      <td>0</td>\n",
              "      <td>0</td>\n",
              "      <td>0</td>\n",
              "      <td>0</td>\n",
              "      <td>...</td>\n",
              "      <td>0</td>\n",
              "      <td>0</td>\n",
              "      <td>0</td>\n",
              "      <td>0</td>\n",
              "      <td>1</td>\n",
              "      <td>0</td>\n",
              "      <td>0</td>\n",
              "      <td>0</td>\n",
              "      <td>0</td>\n",
              "      <td>0</td>\n",
              "    </tr>\n",
              "    <tr>\n",
              "      <th>4834</th>\n",
              "      <td>-0.421131</td>\n",
              "      <td>0.072954</td>\n",
              "      <td>0</td>\n",
              "      <td>65.7</td>\n",
              "      <td>-0.825227</td>\n",
              "      <td>0</td>\n",
              "      <td>0</td>\n",
              "      <td>0</td>\n",
              "      <td>0</td>\n",
              "      <td>1</td>\n",
              "      <td>...</td>\n",
              "      <td>0</td>\n",
              "      <td>0</td>\n",
              "      <td>0</td>\n",
              "      <td>0</td>\n",
              "      <td>1</td>\n",
              "      <td>0</td>\n",
              "      <td>0</td>\n",
              "      <td>0</td>\n",
              "      <td>0</td>\n",
              "      <td>1</td>\n",
              "    </tr>\n",
              "    <tr>\n",
              "      <th>4613</th>\n",
              "      <td>0.562381</td>\n",
              "      <td>-0.419509</td>\n",
              "      <td>145</td>\n",
              "      <td>58.9</td>\n",
              "      <td>-0.825227</td>\n",
              "      <td>0</td>\n",
              "      <td>0</td>\n",
              "      <td>0</td>\n",
              "      <td>0</td>\n",
              "      <td>1</td>\n",
              "      <td>...</td>\n",
              "      <td>0</td>\n",
              "      <td>0</td>\n",
              "      <td>0</td>\n",
              "      <td>0</td>\n",
              "      <td>1</td>\n",
              "      <td>0</td>\n",
              "      <td>0</td>\n",
              "      <td>0</td>\n",
              "      <td>0</td>\n",
              "      <td>1</td>\n",
              "    </tr>\n",
              "    <tr>\n",
              "      <th>14543</th>\n",
              "      <td>0.562381</td>\n",
              "      <td>0.263101</td>\n",
              "      <td>145</td>\n",
              "      <td>74.3</td>\n",
              "      <td>0.345357</td>\n",
              "      <td>0</td>\n",
              "      <td>0</td>\n",
              "      <td>0</td>\n",
              "      <td>0</td>\n",
              "      <td>0</td>\n",
              "      <td>...</td>\n",
              "      <td>0</td>\n",
              "      <td>0</td>\n",
              "      <td>0</td>\n",
              "      <td>0</td>\n",
              "      <td>1</td>\n",
              "      <td>0</td>\n",
              "      <td>0</td>\n",
              "      <td>0</td>\n",
              "      <td>0</td>\n",
              "      <td>0</td>\n",
              "    </tr>\n",
              "    <tr>\n",
              "      <th>470</th>\n",
              "      <td>1.054137</td>\n",
              "      <td>-0.704447</td>\n",
              "      <td>145</td>\n",
              "      <td>54.3</td>\n",
              "      <td>0.345357</td>\n",
              "      <td>0</td>\n",
              "      <td>0</td>\n",
              "      <td>0</td>\n",
              "      <td>0</td>\n",
              "      <td>0</td>\n",
              "      <td>...</td>\n",
              "      <td>0</td>\n",
              "      <td>0</td>\n",
              "      <td>0</td>\n",
              "      <td>0</td>\n",
              "      <td>1</td>\n",
              "      <td>0</td>\n",
              "      <td>0</td>\n",
              "      <td>0</td>\n",
              "      <td>0</td>\n",
              "      <td>0</td>\n",
              "    </tr>\n",
              "    <tr>\n",
              "      <th>...</th>\n",
              "      <td>...</td>\n",
              "      <td>...</td>\n",
              "      <td>...</td>\n",
              "      <td>...</td>\n",
              "      <td>...</td>\n",
              "      <td>...</td>\n",
              "      <td>...</td>\n",
              "      <td>...</td>\n",
              "      <td>...</td>\n",
              "      <td>...</td>\n",
              "      <td>...</td>\n",
              "      <td>...</td>\n",
              "      <td>...</td>\n",
              "      <td>...</td>\n",
              "      <td>...</td>\n",
              "      <td>...</td>\n",
              "      <td>...</td>\n",
              "      <td>...</td>\n",
              "      <td>...</td>\n",
              "      <td>...</td>\n",
              "      <td>...</td>\n",
              "    </tr>\n",
              "    <tr>\n",
              "      <th>5252</th>\n",
              "      <td>0.070625</td>\n",
              "      <td>-0.735976</td>\n",
              "      <td>20</td>\n",
              "      <td>61.4</td>\n",
              "      <td>-0.825227</td>\n",
              "      <td>0</td>\n",
              "      <td>0</td>\n",
              "      <td>0</td>\n",
              "      <td>0</td>\n",
              "      <td>0</td>\n",
              "      <td>...</td>\n",
              "      <td>0</td>\n",
              "      <td>0</td>\n",
              "      <td>0</td>\n",
              "      <td>0</td>\n",
              "      <td>1</td>\n",
              "      <td>0</td>\n",
              "      <td>0</td>\n",
              "      <td>0</td>\n",
              "      <td>0</td>\n",
              "      <td>1</td>\n",
              "    </tr>\n",
              "    <tr>\n",
              "      <th>4392</th>\n",
              "      <td>-0.421131</td>\n",
              "      <td>2.266586</td>\n",
              "      <td>125</td>\n",
              "      <td>60.1</td>\n",
              "      <td>1.515942</td>\n",
              "      <td>0</td>\n",
              "      <td>0</td>\n",
              "      <td>0</td>\n",
              "      <td>0</td>\n",
              "      <td>0</td>\n",
              "      <td>...</td>\n",
              "      <td>0</td>\n",
              "      <td>0</td>\n",
              "      <td>0</td>\n",
              "      <td>0</td>\n",
              "      <td>1</td>\n",
              "      <td>0</td>\n",
              "      <td>0</td>\n",
              "      <td>0</td>\n",
              "      <td>0</td>\n",
              "      <td>0</td>\n",
              "    </tr>\n",
              "    <tr>\n",
              "      <th>12778</th>\n",
              "      <td>1.054137</td>\n",
              "      <td>-1.034961</td>\n",
              "      <td>145</td>\n",
              "      <td>55.4</td>\n",
              "      <td>-0.825227</td>\n",
              "      <td>0</td>\n",
              "      <td>0</td>\n",
              "      <td>0</td>\n",
              "      <td>0</td>\n",
              "      <td>1</td>\n",
              "      <td>...</td>\n",
              "      <td>0</td>\n",
              "      <td>0</td>\n",
              "      <td>0</td>\n",
              "      <td>0</td>\n",
              "      <td>1</td>\n",
              "      <td>0</td>\n",
              "      <td>0</td>\n",
              "      <td>0</td>\n",
              "      <td>0</td>\n",
              "      <td>1</td>\n",
              "    </tr>\n",
              "    <tr>\n",
              "      <th>7775</th>\n",
              "      <td>0.070625</td>\n",
              "      <td>-0.872088</td>\n",
              "      <td>165</td>\n",
              "      <td>44.1</td>\n",
              "      <td>0.579474</td>\n",
              "      <td>0</td>\n",
              "      <td>0</td>\n",
              "      <td>0</td>\n",
              "      <td>0</td>\n",
              "      <td>0</td>\n",
              "      <td>...</td>\n",
              "      <td>0</td>\n",
              "      <td>0</td>\n",
              "      <td>0</td>\n",
              "      <td>0</td>\n",
              "      <td>0</td>\n",
              "      <td>1</td>\n",
              "      <td>0</td>\n",
              "      <td>0</td>\n",
              "      <td>0</td>\n",
              "      <td>1</td>\n",
              "    </tr>\n",
              "    <tr>\n",
              "      <th>12796</th>\n",
              "      <td>-1.404643</td>\n",
              "      <td>-0.017172</td>\n",
              "      <td>0</td>\n",
              "      <td>65.7</td>\n",
              "      <td>-0.825227</td>\n",
              "      <td>0</td>\n",
              "      <td>0</td>\n",
              "      <td>0</td>\n",
              "      <td>0</td>\n",
              "      <td>1</td>\n",
              "      <td>...</td>\n",
              "      <td>0</td>\n",
              "      <td>0</td>\n",
              "      <td>0</td>\n",
              "      <td>0</td>\n",
              "      <td>1</td>\n",
              "      <td>0</td>\n",
              "      <td>0</td>\n",
              "      <td>0</td>\n",
              "      <td>0</td>\n",
              "      <td>1</td>\n",
              "    </tr>\n",
              "  </tbody>\n",
              "</table>\n",
              "<p>12575 rows × 33 columns</p>\n",
              "</div>\n",
              "      <button class=\"colab-df-convert\" onclick=\"convertToInteractive('df-5b26ad9f-080a-4574-b2aa-6777ad51c450')\"\n",
              "              title=\"Convert this dataframe to an interactive table.\"\n",
              "              style=\"display:none;\">\n",
              "        \n",
              "  <svg xmlns=\"http://www.w3.org/2000/svg\" height=\"24px\"viewBox=\"0 0 24 24\"\n",
              "       width=\"24px\">\n",
              "    <path d=\"M0 0h24v24H0V0z\" fill=\"none\"/>\n",
              "    <path d=\"M18.56 5.44l.94 2.06.94-2.06 2.06-.94-2.06-.94-.94-2.06-.94 2.06-2.06.94zm-11 1L8.5 8.5l.94-2.06 2.06-.94-2.06-.94L8.5 2.5l-.94 2.06-2.06.94zm10 10l.94 2.06.94-2.06 2.06-.94-2.06-.94-.94-2.06-.94 2.06-2.06.94z\"/><path d=\"M17.41 7.96l-1.37-1.37c-.4-.4-.92-.59-1.43-.59-.52 0-1.04.2-1.43.59L10.3 9.45l-7.72 7.72c-.78.78-.78 2.05 0 2.83L4 21.41c.39.39.9.59 1.41.59.51 0 1.02-.2 1.41-.59l7.78-7.78 2.81-2.81c.8-.78.8-2.07 0-2.86zM5.41 20L4 18.59l7.72-7.72 1.47 1.35L5.41 20z\"/>\n",
              "  </svg>\n",
              "      </button>\n",
              "      \n",
              "  <style>\n",
              "    .colab-df-container {\n",
              "      display:flex;\n",
              "      flex-wrap:wrap;\n",
              "      gap: 12px;\n",
              "    }\n",
              "\n",
              "    .colab-df-convert {\n",
              "      background-color: #E8F0FE;\n",
              "      border: none;\n",
              "      border-radius: 50%;\n",
              "      cursor: pointer;\n",
              "      display: none;\n",
              "      fill: #1967D2;\n",
              "      height: 32px;\n",
              "      padding: 0 0 0 0;\n",
              "      width: 32px;\n",
              "    }\n",
              "\n",
              "    .colab-df-convert:hover {\n",
              "      background-color: #E2EBFA;\n",
              "      box-shadow: 0px 1px 2px rgba(60, 64, 67, 0.3), 0px 1px 3px 1px rgba(60, 64, 67, 0.15);\n",
              "      fill: #174EA6;\n",
              "    }\n",
              "\n",
              "    [theme=dark] .colab-df-convert {\n",
              "      background-color: #3B4455;\n",
              "      fill: #D2E3FC;\n",
              "    }\n",
              "\n",
              "    [theme=dark] .colab-df-convert:hover {\n",
              "      background-color: #434B5C;\n",
              "      box-shadow: 0px 1px 3px 1px rgba(0, 0, 0, 0.15);\n",
              "      filter: drop-shadow(0px 1px 2px rgba(0, 0, 0, 0.3));\n",
              "      fill: #FFFFFF;\n",
              "    }\n",
              "  </style>\n",
              "\n",
              "      <script>\n",
              "        const buttonEl =\n",
              "          document.querySelector('#df-5b26ad9f-080a-4574-b2aa-6777ad51c450 button.colab-df-convert');\n",
              "        buttonEl.style.display =\n",
              "          google.colab.kernel.accessAllowed ? 'block' : 'none';\n",
              "\n",
              "        async function convertToInteractive(key) {\n",
              "          const element = document.querySelector('#df-5b26ad9f-080a-4574-b2aa-6777ad51c450');\n",
              "          const dataTable =\n",
              "            await google.colab.kernel.invokeFunction('convertToInteractive',\n",
              "                                                     [key], {});\n",
              "          if (!dataTable) return;\n",
              "\n",
              "          const docLinkHtml = 'Like what you see? Visit the ' +\n",
              "            '<a target=\"_blank\" href=https://colab.research.google.com/notebooks/data_table.ipynb>data table notebook</a>'\n",
              "            + ' to learn more about interactive tables.';\n",
              "          element.innerHTML = '';\n",
              "          dataTable['output_type'] = 'display_data';\n",
              "          await google.colab.output.renderOutput(dataTable, element);\n",
              "          const docLink = document.createElement('div');\n",
              "          docLink.innerHTML = docLinkHtml;\n",
              "          element.appendChild(docLink);\n",
              "        }\n",
              "      </script>\n",
              "    </div>\n",
              "  </div>\n",
              "  "
            ]
          },
          "metadata": {},
          "execution_count": 12
        }
      ]
    },
    {
      "cell_type": "markdown",
      "source": [
        "Da tabela cima, conclui-se que o carro padrão tem câmbio automático e combustível padrão, o diesel (estas colunas não aparecem, ou seja, ao utilizar o método Onehot, o modelo automaticamente institui como padrão o câmbio automático e combustível padrão o diesel)."
      ],
      "metadata": {
        "id": "D3z5ia9DNtMX"
      }
    },
    {
      "cell_type": "markdown",
      "source": [
        "**Ajuste do modelo:**"
      ],
      "metadata": {
        "id": "dOyIzUse5hpw"
      }
    },
    {
      "cell_type": "code",
      "source": [
        "from sklearn.linear_model import LinearRegression\n",
        "\n",
        "lr = LinearRegression(\n",
        "    fit_intercept=True,\n",
        "    normalize=False,\n",
        "    n_jobs=3,\n",
        ")\n",
        "\n",
        "lr.fit(X_tr_s, y_tr)"
      ],
      "metadata": {
        "colab": {
          "base_uri": "https://localhost:8080/"
        },
        "id": "gawZrCbZ5kbP",
        "outputId": "88d4dcb6-f09f-4cf3-b1ae-b87f2cf49256"
      },
      "execution_count": 13,
      "outputs": [
        {
          "output_type": "stream",
          "name": "stderr",
          "text": [
            "/usr/local/lib/python3.7/dist-packages/sklearn/linear_model/_base.py:155: FutureWarning: 'normalize' was deprecated in version 1.0 and will be removed in 1.2. Please leave the normalize parameter to its default value to silence this warning. The default behavior of this estimator is to not do any normalization. If normalization is needed please use sklearn.preprocessing.StandardScaler instead.\n",
            "  FutureWarning,\n"
          ]
        },
        {
          "output_type": "execute_result",
          "data": {
            "text/plain": [
              "LinearRegression(n_jobs=3, normalize=False)"
            ]
          },
          "metadata": {},
          "execution_count": 13
        }
      ]
    },
    {
      "cell_type": "code",
      "source": [
        "y_pred=lr.predict(X_ts_s)"
      ],
      "metadata": {
        "id": "_n0fhaGA7LFd"
      },
      "execution_count": 15,
      "outputs": []
    },
    {
      "cell_type": "markdown",
      "source": [
        "# **Validando o modelo** MAE e MSE:"
      ],
      "metadata": {
        "id": "rUMLdsuI7UBL"
      }
    },
    {
      "cell_type": "code",
      "source": [
        "# Analisando o  MSE:\n",
        "\n",
        "from sklearn.metrics import mean_squared_error\n",
        "\n",
        "np.sqrt(mean_squared_error(y_ts,y_pred))"
      ],
      "metadata": {
        "colab": {
          "base_uri": "https://localhost:8080/"
        },
        "id": "0lGRF_5l-L3z",
        "outputId": "2583530f-3424-42ce-ae00-03bda077702e"
      },
      "execution_count": 16,
      "outputs": [
        {
          "output_type": "execute_result",
          "data": {
            "text/plain": [
              "2029.4460876157227"
            ]
          },
          "metadata": {},
          "execution_count": 16
        }
      ]
    },
    {
      "cell_type": "code",
      "source": [
        "#Analisando o MAE:\n",
        "\n",
        "from sklearn.metrics import mean_absolute_error\n",
        "mean_absolute_error(y_ts,y_pred)"
      ],
      "metadata": {
        "colab": {
          "base_uri": "https://localhost:8080/"
        },
        "id": "xSUybKB8-eox",
        "outputId": "bd0282db-a1d3-448e-f022-9aa5bf7b8661"
      },
      "execution_count": 17,
      "outputs": [
        {
          "output_type": "execute_result",
          "data": {
            "text/plain": [
              "1368.1963747027362"
            ]
          },
          "metadata": {},
          "execution_count": 17
        }
      ]
    },
    {
      "cell_type": "markdown",
      "source": [
        "**Analisando graficamente:**\n"
      ],
      "metadata": {
        "id": "S_HEXejG_eM4"
      }
    },
    {
      "cell_type": "code",
      "source": [
        "plt.figure(figsize=(15,5))\n",
        "\n",
        "M = y_ts.max()\n",
        "\n",
        "plt.hist(y_ts,bins=np.linspace(0,M,20),rwidth = 0.8, alpha = 0.3, color = 'C0', density = True)\n",
        "plt.hist(y_pred, bins = np.linspace(0,M,20), rwidth=0.8, alpha = 0.3, color = 'C3', density = True);"
      ],
      "metadata": {
        "colab": {
          "base_uri": "https://localhost:8080/",
          "height": 320
        },
        "id": "EtqIhHcA_jFK",
        "outputId": "f3ada214-8a74-4548-ff29-6d9a57bcfdbc"
      },
      "execution_count": 18,
      "outputs": [
        {
          "output_type": "display_data",
          "data": {
            "text/plain": [
              "<Figure size 1080x360 with 1 Axes>"
            ],
            "image/png": "[encoded data removed]"
          },
          "metadata": {
            "needs_background": "light"
          }
        }
      ]
    },
    {
      "cell_type": "markdown",
      "source": [
        "O modelo tem tendência em concentrar a precificação em U$10.000."
      ],
      "metadata": {
        "id": "F-P82nfaAnZP"
      }
    },
    {
      "cell_type": "code",
      "source": [
        "#Analisando os erros:\n",
        "\n",
        "plt.figure(figsize=(15,5))\n",
        "\n",
        "plt.hist(y_pred-y_ts,bins=15, rwidth = 0.8, density = False)\n",
        "plt.grid()"
      ],
      "metadata": {
        "colab": {
          "base_uri": "https://localhost:8080/",
          "height": 320
        },
        "id": "75-lw5diA7xd",
        "outputId": "d5c15f9f-daf4-48ac-96ab-a082bbf2ca6a"
      },
      "execution_count": 19,
      "outputs": [
        {
          "output_type": "display_data",
          "data": {
            "text/plain": [
              "<Figure size 1080x360 with 1 Axes>"
            ],
            "image/png": "[encoded data removed]"
          },
          "metadata": {
            "needs_background": "light"
          }
        }
      ]
    },
    {
      "cell_type": "code",
      "source": [
        "#Analisando os erros na escala logarítmica:\n",
        "\n",
        "plt.figure(figsize=(15,5))\n",
        "\n",
        "plt.hist(y_pred - y_ts, bins=15, rwidth=0.8, density = False, log=True)\n",
        "plt.grid()"
      ],
      "metadata": {
        "colab": {
          "base_uri": "https://localhost:8080/",
          "height": 320
        },
        "id": "UFg6t3gwBXVn",
        "outputId": "db04cc70-5601-4bf8-b09c-7a8ce128f780"
      },
      "execution_count": 20,
      "outputs": [
        {
          "output_type": "display_data",
          "data": {
            "text/plain": [
              "<Figure size 1080x360 with 1 Axes>"
            ],
            "image/png": "[encoded data removed]"
          },
          "metadata": {
            "needs_background": "light"
          }
        }
      ]
    },
    {
      "cell_type": "markdown",
      "source": [
        "Analisando os gráfico acima, nota-se que o modelo tende a fazer predições menores do que o valor real dos veículos."
      ],
      "metadata": {
        "id": "2fU1vjI1CKI8"
      }
    },
    {
      "cell_type": "markdown",
      "source": [
        "**Interpretando o modelo:**"
      ],
      "metadata": {
        "id": "D4kbudkJEUqz"
      }
    },
    {
      "cell_type": "code",
      "source": [
        "lr.intercept_"
      ],
      "metadata": {
        "colab": {
          "base_uri": "https://localhost:8080/"
        },
        "id": "Z5ZKGhrIEYsg",
        "outputId": "b4562eea-415c-41b2-a6f2-f28d54504e20"
      },
      "execution_count": 21,
      "outputs": [
        {
          "output_type": "execute_result",
          "data": {
            "text/plain": [
              "15367.401962984834"
            ]
          },
          "metadata": {},
          "execution_count": 21
        }
      ]
    },
    {
      "cell_type": "code",
      "source": [
        "#Analisando o peso que o modelo dá para cada variável: \n",
        "lr.coef_"
      ],
      "metadata": {
        "colab": {
          "base_uri": "https://localhost:8080/"
        },
        "id": "wOLseX9dEds1",
        "outputId": "ec49b713-2bf2-4721-8284-621a259ceb0c"
      },
      "execution_count": 22,
      "outputs": [
        {
          "output_type": "execute_result",
          "data": {
            "text/plain": [
              "array([ 2.30357735e+03, -1.18643133e+03, -1.07684178e+00, -8.18180869e+01,\n",
              "        1.12837041e+03,  1.17263626e+03,  1.66629850e+03,  9.08032138e+03,\n",
              "        1.54899441e+04,  1.21103735e+03,  3.23439018e+03,  4.21054053e+03,\n",
              "        6.83145567e+03,  1.61386842e+03,  4.25871030e+03, -4.45796723e+02,\n",
              "       -2.91636617e+03,  3.76079215e+03,  2.92456561e+03,  1.15216687e+04,\n",
              "        8.03239467e+03,  5.57379367e+03,  6.46890573e+03,  5.41836128e+03,\n",
              "        3.11374700e+03,  6.66526357e+03,  2.00290818e+03, -4.57353357e+02,\n",
              "       -1.26190158e+02,  1.59498893e+03,  6.89219532e+03,  0.00000000e+00,\n",
              "       -2.40491637e+02])"
            ]
          },
          "metadata": {},
          "execution_count": 22
        }
      ]
    },
    {
      "cell_type": "code",
      "source": [
        "for col, coef in zip(X_tr.columns, lr.coef_):\n",
        "    print(f'{col:50s} : {coef:7.3f}')"
      ],
      "metadata": {
        "colab": {
          "base_uri": "https://localhost:8080/"
        },
        "id": "6LS2i1buFFJ6",
        "outputId": "21232752-6802-4057-eee0-eeab8e75e9e4"
      },
      "execution_count": 23,
      "outputs": [
        {
          "output_type": "stream",
          "name": "stdout",
          "text": [
            "year                                               : 2303.577\n",
            "mileage                                            : -1186.431\n",
            "tax                                                :  -1.077\n",
            "mpg                                                : -81.818\n",
            "engineSize                                         : 1128.370\n",
            "model_ C-MAX                                       : 1172.636\n",
            "model_ EcoSport                                    : 1666.298\n",
            "model_ Edge                                        : 9080.321\n",
            "model_ Escort                                      : 15489.944\n",
            "model_ Fiesta                                      : 1211.037\n",
            "model_ Focus                                       : 3234.390\n",
            "model_ Fusion                                      : 4210.541\n",
            "model_ Galaxy                                      : 6831.456\n",
            "model_ Grand C-MAX                                 : 1613.868\n",
            "model_ Grand Tourneo Connect                       : 4258.710\n",
            "model_ KA                                          : -445.797\n",
            "model_ Ka+                                         : -2916.366\n",
            "model_ Kuga                                        : 3760.792\n",
            "model_ Mondeo                                      : 2924.566\n",
            "model_ Mustang                                     : 11521.669\n",
            "model_ Puma                                        : 8032.395\n",
            "model_ Ranger                                      : 5573.794\n",
            "model_ S-MAX                                       : 6468.906\n",
            "model_ Streetka                                    : 5418.361\n",
            "model_ Tourneo Connect                             : 3113.747\n",
            "model_ Tourneo Custom                              : 6665.264\n",
            "model_ Transit Tourneo                             : 2002.908\n",
            "transmission_Manual                                : -457.353\n",
            "transmission_Semi-Auto                             : -126.190\n",
            "fuelType_Electric                                  : 1594.989\n",
            "fuelType_Hybrid                                    : 6892.195\n",
            "fuelType_Other                                     :   0.000\n",
            "fuelType_Petrol                                    : -240.492\n"
          ]
        }
      ]
    },
    {
      "cell_type": "markdown",
      "source": [
        "Assim, por exemplo, quanto maior o ano do carro (year), mais caro ele será (2303,5). De forma inversa, quanto maior a quilometragem do carro, menor o seu valor (-1186,4)."
      ],
      "metadata": {
        "id": "qA9p4BtHBpaM"
      }
    },
    {
      "cell_type": "markdown",
      "source": [
        "# A equação do preço é:\n",
        "\n",
        "$$\n",
        "y = \\beta_0 + \\beta_{ano} \\cdot ano + \\beta_{mileage} \\cdot mileage + \\beta_{engineSize} \\cdot engineSize + \\beta_{Trans.Manual} \\cdot Trans.Manual + \\beta_{Trans.Semi} \\cdot Trans.Semi + \\beta_{fuel.Petrol} \\cdot fuel.Petrol\n",
        "$$"
      ],
      "metadata": {
        "id": "ReIYmxg7EoIY"
      }
    },
    {
      "cell_type": "markdown",
      "source": [
        "$\\beta_0$:\n",
        "\n",
        "É o carro com todas variáveis zeradas.\n",
        " - Normalização\n",
        " - Método one-hot\n",
        "   - câmbio automático\n",
        "   - combustível diesel"
      ],
      "metadata": {
        "id": "YpxWDXQz_ig6"
      }
    },
    {
      "cell_type": "markdown",
      "source": [
        "# O carro padrão:\n",
        "\n",
        "\n",
        "\n"
      ],
      "metadata": {
        "id": "qhm8toeDF8i_"
      }
    },
    {
      "cell_type": "code",
      "source": [
        "print( 'year', scalers [ 'year'].mean_, scalers['year'].scale_)\n",
        "print( 'mileage', scalers [ 'mileage'].mean_, scalers['mileage'].scale_)\n",
        "print( 'engineSize', scalers ['engineSize'].mean_, scalers['engineSize'].scale_)"
      ],
      "metadata": {
        "colab": {
          "base_uri": "https://localhost:8080/"
        },
        "id": "1KCQHQiLF-98",
        "outputId": "ccf39fa3-e75e-47d3-e71e-beb02a56c551"
      },
      "execution_count": 25,
      "outputs": [
        {
          "output_type": "stream",
          "name": "stdout",
          "text": [
            "year [2016.85638171] [2.03352861]\n",
            "mileage [23435.95435388] [19506.00756208]\n",
            "engineSize [1.35248509] [0.42713711]\n"
          ]
        }
      ]
    },
    {
      "cell_type": "markdown",
      "source": [
        "O carro padrão tem as seguintes características:\n",
        "\n",
        "\n",
        "\n",
        "*   Ano do carro: 2016\n",
        "*   Quilometragem: 23435 milhas rodadas\n",
        "*   Tamanho do motor: 1.35\n",
        "*   Câmbio: automático\n",
        "*   Combustível: Diesel\n",
        "*   Preço: U$ 15367\n",
        "*   Modelo: B-MAX\n",
        "\n"
      ],
      "metadata": {
        "id": "4IhL7O9MIj4s"
      }
    },
    {
      "cell_type": "markdown",
      "source": [
        "Analisando a variável mileage:"
      ],
      "metadata": {
        "id": "4fPqEKwTO9um"
      }
    },
    {
      "cell_type": "code",
      "source": [
        "scalers [ 'mileage'].mean_, scalers['mileage'].scale_"
      ],
      "metadata": {
        "colab": {
          "base_uri": "https://localhost:8080/"
        },
        "id": "FwiNuXfSPJpq",
        "outputId": "70d0f6d6-461f-42fc-fac7-99735177f60b"
      },
      "execution_count": 26,
      "outputs": [
        {
          "output_type": "execute_result",
          "data": {
            "text/plain": [
              "(array([23435.95435388]), array([19506.00756208]))"
            ]
          },
          "metadata": {},
          "execution_count": 26
        }
      ]
    },
    {
      "cell_type": "markdown",
      "source": [
        "Carros que têm exatamente 23435 milhas não sofrem impacto dessa variável. Mas, a cada 23435 milhas a mais, o carro encarece 1186 dólares, e se o carro possui 23435 milhas a menos, o carro é 1186 dólares mais barato."
      ],
      "metadata": {
        "id": "afhgTESEPeD7"
      }
    },
    {
      "cell_type": "markdown",
      "source": [
        "**Analisando a variável Transmission:**"
      ],
      "metadata": {
        "id": "2ycQ_T6iQPEV"
      }
    },
    {
      "cell_type": "code",
      "source": [
        "# Recapitulando: \n",
        "\n",
        "for col, coef in zip(X_tr.columns, lr.coef_):\n",
        "    print(f'{col:50s} : {coef:7.3f}')"
      ],
      "metadata": {
        "colab": {
          "base_uri": "https://localhost:8080/"
        },
        "id": "KRzGH06bNp7Q",
        "outputId": "29f3c629-6e3c-48e8-f746-be28755012f0"
      },
      "execution_count": 27,
      "outputs": [
        {
          "output_type": "stream",
          "name": "stdout",
          "text": [
            "year                                               : 2303.577\n",
            "mileage                                            : -1186.431\n",
            "tax                                                :  -1.077\n",
            "mpg                                                : -81.818\n",
            "engineSize                                         : 1128.370\n",
            "model_ C-MAX                                       : 1172.636\n",
            "model_ EcoSport                                    : 1666.298\n",
            "model_ Edge                                        : 9080.321\n",
            "model_ Escort                                      : 15489.944\n",
            "model_ Fiesta                                      : 1211.037\n",
            "model_ Focus                                       : 3234.390\n",
            "model_ Fusion                                      : 4210.541\n",
            "model_ Galaxy                                      : 6831.456\n",
            "model_ Grand C-MAX                                 : 1613.868\n",
            "model_ Grand Tourneo Connect                       : 4258.710\n",
            "model_ KA                                          : -445.797\n",
            "model_ Ka+                                         : -2916.366\n",
            "model_ Kuga                                        : 3760.792\n",
            "model_ Mondeo                                      : 2924.566\n",
            "model_ Mustang                                     : 11521.669\n",
            "model_ Puma                                        : 8032.395\n",
            "model_ Ranger                                      : 5573.794\n",
            "model_ S-MAX                                       : 6468.906\n",
            "model_ Streetka                                    : 5418.361\n",
            "model_ Tourneo Connect                             : 3113.747\n",
            "model_ Tourneo Custom                              : 6665.264\n",
            "model_ Transit Tourneo                             : 2002.908\n",
            "transmission_Manual                                : -457.353\n",
            "transmission_Semi-Auto                             : -126.190\n",
            "fuelType_Electric                                  : 1594.989\n",
            "fuelType_Hybrid                                    : 6892.195\n",
            "fuelType_Other                                     :   0.000\n",
            "fuelType_Petrol                                    : -240.492\n"
          ]
        }
      ]
    },
    {
      "cell_type": "markdown",
      "source": [
        "Carros automáticos não têm seu valor alterado (carro padrão). Já carros manuais, têm uma redução do valor predito em 457 dólares e carros semi-automáticos, tem uma diminuição no valor da predição de 126 dólares."
      ],
      "metadata": {
        "id": "nmk4ebKSQ8j_"
      }
    },
    {
      "cell_type": "markdown",
      "source": [
        "Analisando o combustível:\n",
        "  Como já visto, o carro padrão tem combustível o diesel. Se o carro for elétrico, ele encarece 1594 dólares; se for híbrido, encarece 6892 dólares; gasolina, fica 240 dólares mais barato."
      ],
      "metadata": {
        "id": "MRiVRot5R1cU"
      }
    },
    {
      "cell_type": "markdown",
      "source": [
        "De acordo com o modelo, o B-MAX é o modelo padrão, mas se for escolhido o modelo Focus, o carro terá um acréscimo de 3234 dólares. Entretanto, se for um modelo KA, o carro ficará 445 dólares mais barato."
      ],
      "metadata": {
        "id": "Fo0-AqMFUnbb"
      }
    }
  ]
}